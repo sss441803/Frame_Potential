{
 "cells": [
  {
   "cell_type": "code",
   "execution_count": 1,
   "metadata": {},
   "outputs": [
    {
     "name": "stderr",
     "output_type": "stream",
     "text": [
      "/home/hl8967/.conda/envs/qtensor_ai/lib/python3.9/site-packages/tqdm-4.63.0-py3.9.egg/tqdm/auto.py:22: TqdmWarning: IProgress not found. Please update jupyter and ipywidgets. See https://ipywidgets.readthedocs.io/en/stable/user_install.html\n",
      "  from .autonotebook import tqdm as notebook_tqdm\n"
     ]
    }
   ],
   "source": [
    "import torch\n",
    "import torch.nn as nn"
   ]
  },
  {
   "cell_type": "code",
   "execution_count": 71,
   "metadata": {},
   "outputs": [],
   "source": [
    "def random_unitary_generator(n_batch, counts):\n",
    "    module = nn.Linear(1,1)\n",
    "    module.unitary = nn.Parameter(torch.rand(n_batch, counts, 2**2, 2**2, dtype=torch.cfloat))\n",
    "    orthmod = nn.utils.parametrizations.orthogonal(module, name='unitary')\n",
    "    results = orthmod.unitary.detach()\n",
    "    #results = torch.cat([results[:,:,i].reshape(n_batch, counts, 1, 2, 2) for i in range(4)], axis=2)\n",
    "    results = results.reshape(n_batch, 1, counts, 2,2,2,2)\n",
    "    results = torch.permute(results, (0,1,2,4,3,6,5))\n",
    "    return results"
   ]
  },
  {
   "cell_type": "code",
   "execution_count": 73,
   "metadata": {},
   "outputs": [
    {
     "data": {
      "text/plain": [
       "tensor([[ 1.0000e+00+3.8884e-09j,  7.4506e-08-5.9605e-08j,\n",
       "          0.0000e+00+1.4901e-08j, -7.4506e-08+1.4901e-07j],\n",
       "        [ 7.4506e-08+5.9605e-08j,  1.0000e+00+1.0263e-08j,\n",
       "         -2.2352e-08-1.0431e-07j,  5.9605e-08-1.1921e-07j],\n",
       "        [ 0.0000e+00-2.9802e-08j, -2.2352e-08+1.1921e-07j,\n",
       "          1.0000e+00-1.0664e-08j, -8.9407e-08-4.4703e-08j],\n",
       "        [-7.4506e-08-1.4901e-07j,  5.9605e-08+1.1921e-07j,\n",
       "         -8.9407e-08+5.9605e-08j,  1.0000e+00+3.2949e-09j]])"
      ]
     },
     "execution_count": 73,
     "metadata": {},
     "output_type": "execute_result"
    }
   ],
   "source": [
    "unitary = random_unitary_generator(1,1)[0,0]\n",
    "unitary2 = unitary\n",
    "permutation = [0] + [5 - i for i in range(1, 5)]\n",
    "unitary2 = torch.permute(unitary2, tuple(permutation)).conj()\n",
    "unitary = torch.permute(unitary, (0,2,1,4,3)).reshape(4, 4)\n",
    "unitary2 = unitary2.reshape(4, 4)\n",
    "torch.matmul(unitary, unitary2)"
   ]
  },
  {
   "cell_type": "code",
   "execution_count": 29,
   "metadata": {},
   "outputs": [
    {
     "data": {
      "text/plain": [
       "[0, 4, 3, 2, 1]"
      ]
     },
     "execution_count": 29,
     "metadata": {},
     "output_type": "execute_result"
    }
   ],
   "source": [
    "permutation"
   ]
  },
  {
   "cell_type": "code",
   "execution_count": 60,
   "metadata": {},
   "outputs": [
    {
     "name": "stdout",
     "output_type": "stream",
     "text": [
      "tensor([[0.9144, 0.7312, 0.2330, 0.0066],\n",
      "        [0.0954, 0.9878, 0.6692, 0.9234],\n",
      "        [0.9473, 0.3522, 0.3447, 0.6632],\n",
      "        [0.7087, 0.2987, 0.3807, 0.3847]])\n",
      "tensor([[[[0.9144, 0.7312],\n",
      "          [0.2330, 0.0066]],\n",
      "\n",
      "         [[0.0954, 0.9878],\n",
      "          [0.6692, 0.9234]]],\n",
      "\n",
      "\n",
      "        [[[0.9473, 0.3522],\n",
      "          [0.3447, 0.6632]],\n",
      "\n",
      "         [[0.7087, 0.2987],\n",
      "          [0.3807, 0.3847]]]])\n",
      "tensor([[0.9144, 0.0954, 0.9473, 0.7087],\n",
      "        [0.7312, 0.9878, 0.3522, 0.2987],\n",
      "        [0.2330, 0.6692, 0.3447, 0.3807],\n",
      "        [0.0066, 0.9234, 0.6632, 0.3847]])\n"
     ]
    }
   ],
   "source": [
    "a=torch.rand(4,4)\n",
    "print(a)\n",
    "b=a.reshape(2,2,2,2)\n",
    "print(b)\n",
    "b=torch.permute(b,(1,0,3,2))\n",
    "print(torch.permute(b,(3,2,1,0)).reshape(4,4))"
   ]
  },
  {
   "cell_type": "code",
   "execution_count": null,
   "metadata": {},
   "outputs": [],
   "source": []
  }
 ],
 "metadata": {
  "interpreter": {
   "hash": "8e37f52b1ac3a33a4d187d5ade9b87bf0015f2320ccb2f09d6ad5cc3e492454b"
  },
  "kernelspec": {
   "display_name": "Python 3.9.10 ('qtensor-torch': conda)",
   "language": "python",
   "name": "python3"
  },
  "language_info": {
   "codemirror_mode": {
    "name": "ipython",
    "version": 3
   },
   "file_extension": ".py",
   "mimetype": "text/x-python",
   "name": "python",
   "nbconvert_exporter": "python",
   "pygments_lexer": "ipython3",
   "version": "3.9.7"
  },
  "orig_nbformat": 4
 },
 "nbformat": 4,
 "nbformat_minor": 2
}
