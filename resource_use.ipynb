{
 "cells": [
  {
   "cell_type": "code",
   "execution_count": 95,
   "metadata": {},
   "outputs": [
    {
     "name": "stdout",
     "output_type": "stream",
     "text": [
      "The autoreload extension is already loaded. To reload it, use:\n",
      "  %reload_ext autoreload\n"
     ]
    }
   ],
   "source": [
    "%load_ext autoreload\n",
    "%autoreload 2\n",
    "import torch\n",
    "#from QTensorAI.qtensor_ai.Quantum_Neural_Net import QNN\n",
    "from QTensorAI.qtensor_ai.ParallelQTensor import ParallelTorchQkernelComposer, TraceEvaluationCircuitComposer, RPQCComposer, ParallelQtreeSimulator, ParallelTorchBackend, PauliPhase\n",
    "\n",
    "#from guppy import hpy; h=hpy()"
   ]
  },
  {
   "cell_type": "code",
   "execution_count": 7,
   "metadata": {},
   "outputs": [
    {
     "name": "stdout",
     "output_type": "stream",
     "text": [
      "Using previously saved contraction order at  <_io.BufferedReader name='./Saved_Contraction_Orders/GreedyOptimizer/Qkernel/n_qubits_10_n_layers_2.pickle'>\n"
     ]
    },
    {
     "data": {
      "text/plain": [
       "QNN()"
      ]
     },
     "execution_count": 7,
     "metadata": {},
     "output_type": "execute_result"
    }
   ],
   "source": [
    "qnn = QNN(10, 1, variational_layers=2)\n",
    "qnn.eval()"
   ]
  },
  {
   "cell_type": "code",
   "execution_count": 3,
   "metadata": {},
   "outputs": [
    {
     "ename": "NameError",
     "evalue": "name 'qnn' is not defined",
     "output_type": "error",
     "traceback": [
      "\u001b[0;31m---------------------------------------------------------------------------\u001b[0m",
      "\u001b[0;31mNameError\u001b[0m                                 Traceback (most recent call last)",
      "\u001b[0;32m/tmp/ipykernel_782994/209448596.py\u001b[0m in \u001b[0;36m<module>\u001b[0;34m\u001b[0m\n\u001b[1;32m      1\u001b[0m \u001b[0mx\u001b[0m \u001b[0;34m=\u001b[0m \u001b[0mtorch\u001b[0m\u001b[0;34m.\u001b[0m\u001b[0mrand\u001b[0m\u001b[0;34m(\u001b[0m\u001b[0;34m(\u001b[0m\u001b[0;36m10\u001b[0m\u001b[0;34m,\u001b[0m \u001b[0;36m10\u001b[0m\u001b[0;34m)\u001b[0m\u001b[0;34m)\u001b[0m\u001b[0;34m\u001b[0m\u001b[0;34m\u001b[0m\u001b[0m\n\u001b[0;32m----> 2\u001b[0;31m \u001b[0my\u001b[0m \u001b[0;34m=\u001b[0m \u001b[0mqnn\u001b[0m\u001b[0;34m(\u001b[0m\u001b[0mx\u001b[0m\u001b[0;34m)\u001b[0m\u001b[0;34m\u001b[0m\u001b[0;34m\u001b[0m\u001b[0m\n\u001b[0m\u001b[1;32m      3\u001b[0m \u001b[0mloss\u001b[0m \u001b[0;34m=\u001b[0m \u001b[0my\u001b[0m\u001b[0;34m.\u001b[0m\u001b[0mmean\u001b[0m\u001b[0;34m(\u001b[0m\u001b[0;34m)\u001b[0m\u001b[0;34m\u001b[0m\u001b[0;34m\u001b[0m\u001b[0m\n\u001b[1;32m      4\u001b[0m \u001b[0mloss\u001b[0m\u001b[0;34m.\u001b[0m\u001b[0mbackward\u001b[0m\u001b[0;34m(\u001b[0m\u001b[0;34m)\u001b[0m\u001b[0;34m\u001b[0m\u001b[0;34m\u001b[0m\u001b[0m\n",
      "\u001b[0;31mNameError\u001b[0m: name 'qnn' is not defined"
     ]
    }
   ],
   "source": [
    "x = torch.rand((10, 10))\n",
    "y = qnn(x)\n",
    "loss = y.mean()\n",
    "loss.backward()"
   ]
  },
  {
   "cell_type": "code",
   "execution_count": 116,
   "metadata": {},
   "outputs": [
    {
     "name": "stdout",
     "output_type": "stream",
     "text": [
      "False\n",
      "False\n",
      "tensor([[ 0.7071,  0.7071],\n",
      "        [ 0.7071, -0.7071]])\n"
     ]
    },
    {
     "data": {
      "text/plain": [
       "[H(2),\n",
       " cX(2,0),\n",
       " H(3),\n",
       " cX(3,1),\n",
       " H(0),\n",
       " H(1),\n",
       " PauliPhase[alpha=0.78,gates=2.00](0),\n",
       " PauliPhase[alpha=0.54,gates=1.00](1),\n",
       " cX(0,1),\n",
       " PauliPhase[alpha=0.36,gates=1.00](0),\n",
       " PauliPhase[alpha=0.05,gates=2.00](1),\n",
       " cX(0,1),\n",
       " H(0),\n",
       " H(1),\n",
       " PauliPhase[alpha=0.84,gates=2.00](0),\n",
       " PauliPhase[alpha=0.05,gates=1.00](1),\n",
       " cX(0,1),\n",
       " PauliPhase[alpha=0.09,gates=1.00](0),\n",
       " PauliPhase[alpha=0.65,gates=2.00](1),\n",
       " cX(0,1),\n",
       " cX+(3,1),\n",
       " H+(3),\n",
       " cX+(2,0),\n",
       " H+(2)]"
      ]
     },
     "execution_count": 116,
     "metadata": {},
     "output_type": "execute_result"
    }
   ],
   "source": [
    "in_features = 2\n",
    "variational_layers = 2\n",
    "n_batch = 10\n",
    "device = 'cpu'\n",
    "com = ParallelTorchQkernelComposer(in_features)\n",
    "rpqc1 = RPQCComposer(in_features)\n",
    "rpqc2 = RPQCComposer(in_features)\n",
    "tcom = TraceEvaluationCircuitComposer(in_features, RPQCComposer.name())\n",
    "\n",
    "init_inputs = torch.rand(n_batch, in_features, requires_grad=False).to(device)\n",
    "init_params1 = torch.rand(n_batch, in_features, variational_layers, requires_grad=False).to(device)\n",
    "init_params2 = torch.rand(n_batch, in_features, variational_layers, requires_grad=False).to(device)\n",
    "gate_types1 = torch.randint(3, (n_batch*in_features*variational_layers,))\n",
    "gate_types1 = gate_types1.reshape((n_batch, variational_layers, in_features))\n",
    "gate_types2 = torch.randint(3, (n_batch*in_features*variational_layers,))\n",
    "gate_types2 = gate_types2.reshape((n_batch, variational_layers, in_features))\n",
    "\n",
    "#com.expectation_circuit(init_inputs, init_params1)\n",
    "#target_circuit = com.static_circuit#+com.static_circuit\n",
    "rpqc1.expectation_circuit(gate_types1, init_params1)\n",
    "rpqc2.expectation_circuit(gate_types2, init_params2)\n",
    "#tcom.expectation_circuit(target_circuit + tcom.inverse(target_circuit))\n",
    "tcom.expectation_circuit(rpqc1.static_circuit + rpqc2.static_circuit)\n",
    "tcom.static_circuit"
   ]
  },
  {
   "cell_type": "code",
   "execution_count": 121,
   "metadata": {},
   "outputs": [
    {
     "data": {
      "text/plain": [
       "tensor([-0.0841+0.0000j, -0.0413+0.0000j, -0.2258+0.0990j, -0.0622+0.0707j,\n",
       "         0.0220-0.0949j,  0.2220+0.1625j, -0.1128+0.0559j, -0.0333-0.3308j,\n",
       "        -0.0534-0.2260j,  0.1606+0.0866j])"
      ]
     },
     "execution_count": 121,
     "metadata": {},
     "output_type": "execute_result"
    }
   ],
   "source": [
    "sim = ParallelQtreeSimulator(backend=ParallelTorchBackend())\n",
    "sim.simulate_batch(tcom.static_circuit)"
   ]
  },
  {
   "cell_type": "code",
   "execution_count": 122,
   "metadata": {},
   "outputs": [],
   "source": [
    "import qiskit"
   ]
  },
  {
   "cell_type": "code",
   "execution_count": null,
   "metadata": {},
   "outputs": [],
   "source": []
  }
 ],
 "metadata": {
  "interpreter": {
   "hash": "8e37f52b1ac3a33a4d187d5ade9b87bf0015f2320ccb2f09d6ad5cc3e492454b"
  },
  "kernelspec": {
   "display_name": "Python 3.9.10 ('qtensor-torch': conda)",
   "language": "python",
   "name": "python3"
  },
  "language_info": {
   "codemirror_mode": {
    "name": "ipython",
    "version": 3
   },
   "file_extension": ".py",
   "mimetype": "text/x-python",
   "name": "python",
   "nbconvert_exporter": "python",
   "pygments_lexer": "ipython3",
   "version": "3.9.10"
  },
  "orig_nbformat": 4
 },
 "nbformat": 4,
 "nbformat_minor": 2
}
